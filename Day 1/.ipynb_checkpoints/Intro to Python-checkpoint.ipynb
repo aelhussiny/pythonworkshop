{
 "cells": [
  {
   "cell_type": "code",
   "execution_count": null,
   "metadata": {},
   "outputs": [],
   "source": [
    "#Comments and First Command\n",
    "print(\"Hello World\")"
   ]
  },
  {
   "cell_type": "code",
   "execution_count": null,
   "metadata": {},
   "outputs": [],
   "source": [
    "#Variable declaration and assignment\n",
    "x = 2"
   ]
  },
  {
   "cell_type": "code",
   "execution_count": null,
   "metadata": {},
   "outputs": [],
   "source": [
    "#Variable Typing\n",
    "x = \"Please enter your name: \""
   ]
  },
  {
   "cell_type": "code",
   "execution_count": null,
   "metadata": {},
   "outputs": [],
   "source": [
    "#Assigning User Inputs to Variables\n",
    "y = input(x)\n",
    "y"
   ]
  },
  {
   "cell_type": "code",
   "execution_count": null,
   "metadata": {},
   "outputs": [],
   "source": [
    "#Multiple variable declaration\n",
    "x, y, z = \"var 1\", 2, \"var 3\"\n",
    "print(x)\n",
    "print(y)\n",
    "print(z)"
   ]
  },
  {
   "cell_type": "code",
   "execution_count": null,
   "metadata": {},
   "outputs": [],
   "source": [
    "print(x + z)"
   ]
  },
  {
   "cell_type": "code",
   "execution_count": null,
   "metadata": {},
   "outputs": [],
   "source": [
    "#Data Types in Python\n",
    "x = \"Hello World\"\n",
    "print(x, type(x))\n",
    "x = 20\n",
    "print(x, type(x))\n",
    "x = 20.5\n",
    "print(x, type(x))\n",
    "x, y = True, False\n",
    "print(x, type(x), y, type(y))\n",
    "x = range(6)\n",
    "print(x, type(x))\n",
    "x = {\"name\": \"Ahmed\", \"position\": \"Applications Developer\"}\n",
    "print(x, type(x))\n",
    "x = [\"apple\", \"banana\", \"cherry\"]\n",
    "print(x, type(x))\n",
    "x = (\"apple\", \"banana\", \"cherry\")\n",
    "print(x, type(x))\n",
    "x = {\"apple\", \"banana\", \"cherry\"}\n",
    "print(x, type(x))"
   ]
  },
  {
   "cell_type": "code",
   "execution_count": null,
   "metadata": {},
   "outputs": [],
   "source": [
    "#Lists in Python\n",
    "lst = [\"apple\", \"banana\", \"cherry\"]\n",
    "print(lst[0])\n",
    "del lst[1]\n",
    "print(lst)\n",
    "lst.append(\"date\")\n",
    "print(lst)\n",
    "lst.append(\"date\")\n",
    "print(lst)\n",
    "print(lst.count(\"date\"))"
   ]
  },
  {
   "cell_type": "code",
   "execution_count": null,
   "metadata": {},
   "outputs": [],
   "source": [
    "#Tuples in Python\n",
    "tpl = (\"apple\", \"banana\", \"cherry\")\n",
    "print(tpl[0])\n",
    "print(tpl)\n",
    "tpl[1] = \"date\"\n",
    "print(tpl)"
   ]
  },
  {
   "cell_type": "code",
   "execution_count": null,
   "metadata": {},
   "outputs": [],
   "source": [
    "#Sets in Python\n",
    "st = {\"apple\", \"banana\", \"cherry\"}\n",
    "print(st)\n",
    "st.add(\"apple\")\n",
    "st.add(\"banana\")\n",
    "print(st)\n",
    "st.add(\"orange\")\n",
    "print(st)\n",
    "st.add(\"orange\")\n",
    "print(st)\n",
    "print(st[0])"
   ]
  },
  {
   "cell_type": "code",
   "execution_count": null,
   "metadata": {},
   "outputs": [],
   "source": [
    "#Logical comparisons and operators\n",
    "x = 1\n",
    "y = 2\n",
    "\n",
    "if x == 1:\n",
    "    print(\"X is 1\") #will be printed\n",
    "elif x <= 0:\n",
    "    print(\"X is less than 1\")\n",
    "else:\n",
    "    print(\"X is neither 1 nor 2\")\n",
    "\n",
    "if y != 1:\n",
    "    print (\"y is not equal 1\") #will be printed\n",
    "\n",
    "if x == 3 or y == 2:\n",
    "    print(\"Either x is 3 or y is 2\") #will be printed\n",
    "    \n",
    "if not (x == 1 and y == 3):\n",
    "    print(\"The following is not true: X is 1 and y is 3\") #will be printed\n",
    "    \n",
    "if 2 in [1, 2, 3, 4]:\n",
    "    print (\"Item found\") #will be printed"
   ]
  },
  {
   "cell_type": "code",
   "execution_count": null,
   "metadata": {},
   "outputs": [],
   "source": [
    "#Loops\n",
    "\n",
    "lst = []\n",
    "while len(lst) < 5:\n",
    "    lst.append(len(lst))\n",
    "print(lst)\n",
    "\n",
    "lst = []\n",
    "for i in range(5):\n",
    "    lst.append(i)\n",
    "print(lst)\n",
    "lst = []\n",
    "for i in range(1, 5):\n",
    "    lst.append(i)\n",
    "print(lst)\n",
    "\n",
    "lst = [\"Apple\", \"Banana\", \"Cherry\", \"Dates\", \"\"]\n",
    "for item in lst:\n",
    "    if (item == \"Apple\"):\n",
    "        continue\n",
    "    print(item)\n",
    "    if (item == \"Cherry\"):\n",
    "        break\n",
    "        \n"
   ]
  },
  {
   "cell_type": "code",
   "execution_count": null,
   "metadata": {},
   "outputs": [],
   "source": [
    "#Functions\n",
    "def print_hello_world():\n",
    "    print(\"Hello world\")"
   ]
  },
  {
   "cell_type": "code",
   "execution_count": null,
   "metadata": {},
   "outputs": [],
   "source": [
    "print_hello_world()"
   ]
  },
  {
   "cell_type": "code",
   "execution_count": null,
   "metadata": {},
   "outputs": [],
   "source": [
    "#Parameter passing\n",
    "def hello_(name):\n",
    "    print(\"Hello \" + name)"
   ]
  },
  {
   "cell_type": "code",
   "execution_count": null,
   "metadata": {},
   "outputs": [],
   "source": [
    "hello_(\"Etisalat\")"
   ]
  },
  {
   "cell_type": "code",
   "execution_count": null,
   "metadata": {},
   "outputs": [],
   "source": [
    "#Default parameters and keyword arguments \n",
    "def printGreeting(greeting=\"Hello\", name=\"Etisalat\"):\n",
    "    print(greeting + \" \" + name)"
   ]
  },
  {
   "cell_type": "code",
   "execution_count": null,
   "metadata": {},
   "outputs": [],
   "source": [
    "printGreeting(name = \"Esri\")"
   ]
  },
  {
   "cell_type": "code",
   "execution_count": null,
   "metadata": {},
   "outputs": [],
   "source": [
    "#variable scoping\n",
    "name = \"Ahmed\"\n",
    "def changeName(newName):\n",
    "    name = newName\n",
    "changeName(\"John\")\n",
    "print(name)\n",
    "\n",
    "def changeName(newName):\n",
    "    global name\n",
    "    name = newName\n",
    "changeName(\"John\")\n",
    "print(name)"
   ]
  },
  {
   "cell_type": "code",
   "execution_count": null,
   "metadata": {},
   "outputs": [],
   "source": [
    "#List Functions and Operations\n",
    "lst = [\"Apple\", \"Banana\", \"Cherry\", \"Date\"]\n",
    "print(lst[0])\n",
    "print(lst[1:3])\n",
    "print(lst[-3])\n",
    "print(lst[:-1])\n",
    "\n",
    "lst.extend([\"Fig\", \"Grape\"])\n",
    "print(lst)\n",
    "\n",
    "lst.insert(1, \"Orange\")\n",
    "print(lst)\n",
    "\n",
    "lst.remove(\"Orange\")\n",
    "print(lst)\n",
    "\n",
    "print(lst.index(\"Banana\"))\n",
    "\n",
    "lst = [7, 4, 0, 9, 12, 5, 14]\n",
    "lst.sort()\n",
    "print(lst)\n",
    "lst.reverse()\n",
    "print(lst)"
   ]
  },
  {
   "cell_type": "code",
   "execution_count": null,
   "metadata": {},
   "outputs": [],
   "source": [
    "#Slicing Strings\n",
    "phrs = \"The quick brown fox jumped over\"\n",
    "print(phrs[6])\n",
    "print(phrs[4:19])\n",
    "print(phrs[-4])\n",
    "print(phrs[:-5])"
   ]
  },
  {
   "cell_type": "code",
   "execution_count": null,
   "metadata": {},
   "outputs": [],
   "source": [
    "#Try Except\n",
    "print(phrs[7000])"
   ]
  },
  {
   "cell_type": "code",
   "execution_count": null,
   "metadata": {},
   "outputs": [],
   "source": [
    "try:\n",
    "    print(phrs[7000])\n",
    "except IndexError:\n",
    "    print(\"Character not found\")"
   ]
  },
  {
   "cell_type": "code",
   "execution_count": null,
   "metadata": {},
   "outputs": [],
   "source": [
    "try:\n",
    "    x = phrs[10]\n",
    "    z = 1 / 0\n",
    "except IndexError:\n",
    "    x = \"a\"\n",
    "except ZeroDivisionError:\n",
    "    z = 1\n",
    "except:\n",
    "    x = \"c\"\n",
    "    z = 3\n",
    "    \n",
    "print(x, z)\n",
    "\n"
   ]
  },
  {
   "cell_type": "code",
   "execution_count": null,
   "metadata": {},
   "outputs": [],
   "source": [
    "#Basic String functions and operations\n",
    "print(phrs)\n",
    "print(len(phrs))\n",
    "print(phrs.isupper())\n",
    "print(phrs.upper())\n",
    "print(phrs.upper().isupper())\n",
    "print(phrs.lower())\n",
    "print(phrs.lower().islower())\n",
    "print(phrs.find(\"quick\"))\n",
    "print(phrs.find(\"tall\"))\n",
    "print(phrs.replace(\"fox\", \"wolf\"))\n",
    "print(phrs.replace(\"o\", \"z\"))\n",
    "\n",
    "if \"fox\" in phrs:\n",
    "    print(\"It was the fox!\")\n",
    "elif \"wolf\" in phrs:\n",
    "    print(\"It was the wolf!\")\n",
    "    \n",
    "newphrs = \"\"\n",
    "for letter in phrs:\n",
    "    if (letter == \"o\"):\n",
    "        continue\n",
    "    newphrs += letter\n",
    "print(newphrs)"
   ]
  },
  {
   "cell_type": "code",
   "execution_count": null,
   "metadata": {},
   "outputs": [],
   "source": [
    "#imports\n",
    "import random\n",
    "print(random.randint(1, 6))\n",
    "print(random.randint(1, 6))\n",
    "print(lst)\n",
    "random.shuffle(lst)\n",
    "print(lst)\n",
    "print(random.choice(lst))"
   ]
  }
 ],
 "metadata": {
  "kernelspec": {
   "display_name": "ArcGISPro",
   "language": "Python",
   "name": "python3"
  },
  "language_info": {
   "file_extension": ".py",
   "name": "python",
   "version": "3"
  }
 },
 "nbformat": 4,
 "nbformat_minor": 2
}
