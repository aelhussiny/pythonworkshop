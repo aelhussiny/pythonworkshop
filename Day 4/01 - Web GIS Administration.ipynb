{
 "cells": [
  {
   "cell_type": "markdown",
   "metadata": {},
   "source": [
    "# Web GIS Administration"
   ]
  },
  {
   "cell_type": "code",
   "execution_count": null,
   "metadata": {},
   "outputs": [],
   "source": [
    "from arcgis.gis import GIS\n",
    "from IPython.display import display"
   ]
  },
  {
   "cell_type": "code",
   "execution_count": null,
   "metadata": {},
   "outputs": [],
   "source": [
    "myPortal = GIS(\"pro\")"
   ]
  },
  {
   "cell_type": "markdown",
   "metadata": {},
   "source": [
    "# Users"
   ]
  },
  {
   "cell_type": "code",
   "execution_count": null,
   "metadata": {},
   "outputs": [],
   "source": [
    "me = myPortal.users.me\n",
    "me"
   ]
  },
  {
   "cell_type": "code",
   "execution_count": null,
   "metadata": {},
   "outputs": [],
   "source": [
    "me.access"
   ]
  },
  {
   "cell_type": "code",
   "execution_count": null,
   "metadata": {},
   "outputs": [],
   "source": [
    "import time\n",
    "created_time = time.localtime(me.created/1000)\n",
    "print(\"Created: {}/{}/{}\".format(created_time[0], created_time[1], created_time[2]))\n",
    "\n",
    "last_accessed = time.localtime(me.lastLogin/1000)\n",
    "print(\"Last active: {}/{}/{}\".format(last_accessed[0], last_accessed[1], last_accessed[2]))"
   ]
  },
  {
   "cell_type": "code",
   "execution_count": null,
   "metadata": {},
   "outputs": [],
   "source": [
    "print(f\"{me.description}, {me.email}, {me.firstName}, {me.lastName}, {me.fullName}\")\n",
    "print(f\"{me.level}, {me.mfaEnabled}, {me.provider}, {me.level}\")"
   ]
  },
  {
   "cell_type": "code",
   "execution_count": null,
   "metadata": {},
   "outputs": [],
   "source": [
    "quota = me.storageQuota\n",
    "used = me.storageUsage\n",
    "pc_usage = round((used / quota)*100, 2)\n",
    "print(\"Usage: \" + str(pc_usage) + \"%\")"
   ]
  },
  {
   "cell_type": "code",
   "execution_count": null,
   "metadata": {},
   "outputs": [],
   "source": [
    "user_groups = me.groups\n",
    "print(\"Member of \" + str(len(user_groups)) + \" groups\")\n",
    "\n",
    "for group in user_groups:\n",
    "    display(group)"
   ]
  },
  {
   "cell_type": "code",
   "execution_count": null,
   "metadata": {},
   "outputs": [],
   "source": [
    "myPortal.users.search(query = \"alouta\")"
   ]
  },
  {
   "cell_type": "code",
   "execution_count": null,
   "metadata": {},
   "outputs": [],
   "source": [
    "rami = myPortal.users.get(\"ralouta_dubai\")"
   ]
  },
  {
   "cell_type": "code",
   "execution_count": null,
   "metadata": {},
   "outputs": [],
   "source": [
    "print(f\"{rami.description}, {rami.email}, {rami.firstName}, {rami.lastName}, {rami.fullName}\")\n",
    "print(f\"{rami.level}, {rami.mfaEnabled}, {rami.provider}, {rami.level}\")"
   ]
  },
  {
   "cell_type": "code",
   "execution_count": null,
   "metadata": {},
   "outputs": [],
   "source": [
    "demo_user1 = myPortal.users.create(username = 'demo_user1_dubai_etisalat',\n",
    "                              password = '0286eb9ac01f',\n",
    "                              firstname = 'demo',\n",
    "                              lastname = 'user',\n",
    "                              email = 'aelhussinypython@esri.com',\n",
    "                              description = 'Demonstrating how to create users using ArcGIS Python API',\n",
    "                              role = 'org_user',\n",
    "                              level = 2,\n",
    "                              user_type = 'creatorUT',\n",
    "                              provider = 'arcgis')"
   ]
  },
  {
   "cell_type": "code",
   "execution_count": null,
   "metadata": {},
   "outputs": [],
   "source": [
    "demo_user1"
   ]
  },
  {
   "cell_type": "code",
   "execution_count": null,
   "metadata": {},
   "outputs": [],
   "source": [
    "demo_user1.update_role(\"org_admin\")"
   ]
  },
  {
   "cell_type": "code",
   "execution_count": null,
   "metadata": {},
   "outputs": [],
   "source": [
    "demo_user1.items()"
   ]
  },
  {
   "cell_type": "code",
   "execution_count": null,
   "metadata": {},
   "outputs": [],
   "source": [
    "demo_user1.delete()"
   ]
  },
  {
   "cell_type": "code",
   "execution_count": null,
   "metadata": {},
   "outputs": [],
   "source": [
    "me.items()"
   ]
  },
  {
   "cell_type": "markdown",
   "metadata": {},
   "source": [
    "# Groups"
   ]
  },
  {
   "cell_type": "code",
   "execution_count": null,
   "metadata": {},
   "outputs": [],
   "source": [
    "survey123Groups = myPortal.groups.search(\"title:survey\")\n",
    "survey123Groups"
   ]
  },
  {
   "cell_type": "code",
   "execution_count": null,
   "metadata": {},
   "outputs": [],
   "source": [
    "survey123Groups[0].access"
   ]
  },
  {
   "cell_type": "code",
   "execution_count": null,
   "metadata": {},
   "outputs": [],
   "source": [
    "import time\n",
    "print(survey123Groups[0].groupid, survey123Groups[0].isFav, survey123Groups[0].isInvitationOnly)\n",
    "print(survey123Groups[0].owner)\n",
    "createdTime = time.localtime(survey123Groups[0].created/1000)\n",
    "print(f\"Created at: {createdTime[0]}/{createdTime[1]}/{createdTime[2]}\")"
   ]
  },
  {
   "cell_type": "code",
   "execution_count": null,
   "metadata": {},
   "outputs": [],
   "source": [
    "myPortal.groups.get(\"576c52ea0bc64f538669651119d325ca\")"
   ]
  },
  {
   "cell_type": "code",
   "execution_count": null,
   "metadata": {},
   "outputs": [],
   "source": [
    "group = myPortal.groups.create(\n",
    "    title='Etisalat Workshop Group',\n",
    "    tags = 'etisalat, workshop, python',\n",
    "    description = 'Group Created with Python Workshop',\n",
    "    access = 'org',\n",
    "    is_invitation_only = 'True'\n",
    ")"
   ]
  },
  {
   "cell_type": "code",
   "execution_count": null,
   "metadata": {},
   "outputs": [],
   "source": [
    "item_properties = {'title':'Cars',\n",
    "                  'tags':['cars', 'Etisalat', 'python'],\n",
    "                  'snippet':'Cars table'}\n",
    "csv_item = myPortal.content.add(item_properties, data='C:\\\\Users\\\\ahme8608\\\\Documents\\\\Etisalat\\\\Python Workshop\\\\Python Workshop\\\\Day 4\\\\03 - CSV File.csv')"
   ]
  },
  {
   "cell_type": "code",
   "execution_count": null,
   "metadata": {},
   "outputs": [],
   "source": [
    "csv_item"
   ]
  },
  {
   "cell_type": "code",
   "execution_count": null,
   "metadata": {},
   "outputs": [],
   "source": [
    "csv_item.access"
   ]
  },
  {
   "cell_type": "code",
   "execution_count": null,
   "metadata": {},
   "outputs": [],
   "source": [
    "csv_item.share(groups=group.id)"
   ]
  },
  {
   "cell_type": "code",
   "execution_count": null,
   "metadata": {},
   "outputs": [],
   "source": [
    "csv_table_item = csv_item.publish()"
   ]
  },
  {
   "cell_type": "code",
   "execution_count": null,
   "metadata": {},
   "outputs": [],
   "source": [
    "group.content()"
   ]
  },
  {
   "cell_type": "code",
   "execution_count": null,
   "metadata": {},
   "outputs": [],
   "source": [
    "group.add_users(['ralouta_dubai'])"
   ]
  },
  {
   "cell_type": "code",
   "execution_count": null,
   "metadata": {},
   "outputs": [],
   "source": [
    "group.get_members()"
   ]
  },
  {
   "cell_type": "code",
   "execution_count": null,
   "metadata": {},
   "outputs": [],
   "source": [
    "group.remove_users(['ralouta_dubai'])"
   ]
  },
  {
   "cell_type": "code",
   "execution_count": null,
   "metadata": {},
   "outputs": [],
   "source": [
    "group.get_members()"
   ]
  },
  {
   "cell_type": "code",
   "execution_count": null,
   "metadata": {},
   "outputs": [],
   "source": [
    "group.update(title='Etisalat Workshop Group - TBD')"
   ]
  },
  {
   "cell_type": "code",
   "execution_count": null,
   "metadata": {},
   "outputs": [],
   "source": [
    "group.title"
   ]
  },
  {
   "cell_type": "code",
   "execution_count": null,
   "metadata": {},
   "outputs": [],
   "source": [
    "group.delete()"
   ]
  },
  {
   "cell_type": "markdown",
   "metadata": {},
   "source": [
    "# Licenses and Credits"
   ]
  },
  {
   "cell_type": "code",
   "execution_count": null,
   "metadata": {},
   "outputs": [],
   "source": [
    "myPortal.admin.license.all()"
   ]
  },
  {
   "cell_type": "code",
   "execution_count": null,
   "metadata": {},
   "outputs": [],
   "source": [
    "pro_license = myPortal.admin.license.get('ArcGIS Pro')\n",
    "pro_license"
   ]
  },
  {
   "cell_type": "code",
   "execution_count": null,
   "metadata": {},
   "outputs": [],
   "source": [
    "pro_license.all()"
   ]
  },
  {
   "cell_type": "code",
   "execution_count": null,
   "metadata": {},
   "outputs": [],
   "source": [
    "pro_license.report"
   ]
  },
  {
   "cell_type": "code",
   "execution_count": null,
   "metadata": {},
   "outputs": [],
   "source": [
    "pro_license.user_entitlement(me.username)"
   ]
  },
  {
   "cell_type": "code",
   "execution_count": null,
   "metadata": {},
   "outputs": [],
   "source": [
    "pro_license.assign(me.username, \",\".join(pro_license.user_entitlement(me.username)['entitlements'] + ['productionMapN']))"
   ]
  },
  {
   "cell_type": "code",
   "execution_count": null,
   "metadata": {},
   "outputs": [],
   "source": [
    "pro_license.revoke(me.username, 'productionMapN')"
   ]
  },
  {
   "cell_type": "code",
   "execution_count": null,
   "metadata": {},
   "outputs": [],
   "source": [
    "myPortal.admin.credits.credits"
   ]
  },
  {
   "cell_type": "code",
   "execution_count": null,
   "metadata": {},
   "outputs": [],
   "source": [
    "# https://github.com/Esri/arcgis-python-api/blob/master/guide/03-the-gis/administering-your-gis.ipynb"
   ]
  },
  {
   "cell_type": "code",
   "execution_count": null,
   "metadata": {},
   "outputs": [],
   "source": []
  }
 ],
 "metadata": {
  "kernelspec": {
   "display_name": "ArcGISPro",
   "language": "Python",
   "name": "python3"
  },
  "language_info": {
   "file_extension": ".py",
   "name": "python",
   "version": "3"
  }
 },
 "nbformat": 4,
 "nbformat_minor": 2
}
